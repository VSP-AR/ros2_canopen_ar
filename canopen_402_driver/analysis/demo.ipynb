{
 "cells": [
  {
   "cell_type": "code",
   "execution_count": 1,
   "metadata": {},
   "outputs": [],
   "source": [
    "path = '~/.ros/tracing/prbt-robot-trace-test9'"
   ]
  },
  {
   "cell_type": "code",
   "execution_count": 2,
   "metadata": {},
   "outputs": [],
   "source": [
    "import os\n",
    "import sys\n",
    "import datetime as dt\n",
    "from typing import List, Optional\n",
    "from typing import Tuple\n",
    "from typing import Union\n",
    "\n",
    "import numpy as np\n",
    "import pandas as pd\n",
    "\n",
    "dir = '.' # os.path.dirname(os.path.realpath(__file__))\n",
    "sys.path.insert(0, os.path.join(dir, '../../tracetools_analysis/tracetools_analysis'))\n",
    "sys.path.insert(0, os.path.join(dir, '../../ros2_tracing/tracetools_read'))\n",
    "from tracetools_analysis.loading import load_file\n",
    "from tracetools_analysis.processor.ros2 import Ros2Handler\n",
    "from tracetools_analysis.utils.ros2 import Ros2DataModelUtil"
   ]
  },
  {
   "cell_type": "code",
   "execution_count": 3,
   "metadata": {},
   "outputs": [
    {
     "name": "stdout",
     "output_type": "stream",
     "text": [
      "converting trace directory: /home/vishnu/.ros/tracing/prbt-robot-trace-test9\n",
      "converted 857075 events in 50.2 s\n",
      "output written to: /home/vishnu/.ros/tracing/prbt-robot-trace-test9/converted\n",
      " [100%] [Ros2Handler]\n"
     ]
    }
   ],
   "source": [
    "events = load_file(path)\n",
    "handler = Ros2Handler.process(events)"
   ]
  },
  {
   "cell_type": "code",
   "execution_count": 4,
   "metadata": {},
   "outputs": [],
   "source": [
    "data_util = Ros2DataModelUtil(handler.data)\n",
    "\n",
    "callback_symbols = data_util.get_callback_symbols()"
   ]
  },
  {
   "cell_type": "code",
   "execution_count": 5,
   "metadata": {},
   "outputs": [
    {
     "data": {
      "text/plain": [
       "pandas.core.frame.DataFrame"
      ]
     },
     "execution_count": 5,
     "metadata": {},
     "output_type": "execute_result"
    }
   ],
   "source": [
    "tpdo_data = data_util.data.canopen_tpdo_data\n",
    "type(tpdo_data)"
   ]
  },
  {
   "cell_type": "code",
   "execution_count": 6,
   "metadata": {},
   "outputs": [
    {
     "data": {
      "text/html": [
       "<div>\n",
       "<style scoped>\n",
       "    .dataframe tbody tr th:only-of-type {\n",
       "        vertical-align: middle;\n",
       "    }\n",
       "\n",
       "    .dataframe tbody tr th {\n",
       "        vertical-align: top;\n",
       "    }\n",
       "\n",
       "    .dataframe thead th {\n",
       "        text-align: right;\n",
       "    }\n",
       "</style>\n",
       "<table border=\"1\" class=\"dataframe\">\n",
       "  <thead>\n",
       "    <tr style=\"text-align: right;\">\n",
       "      <th></th>\n",
       "      <th>timestamp</th>\n",
       "      <th>name</th>\n",
       "      <th>node_id</th>\n",
       "      <th>data</th>\n",
       "    </tr>\n",
       "  </thead>\n",
       "  <tbody>\n",
       "    <tr>\n",
       "      <th>0</th>\n",
       "      <td>1684250027199471535</td>\n",
       "      <td>prbt_joint_1</td>\n",
       "      <td>3</td>\n",
       "      <td>89137</td>\n",
       "    </tr>\n",
       "    <tr>\n",
       "      <th>1</th>\n",
       "      <td>1684250027199534909</td>\n",
       "      <td>prbt_joint_2</td>\n",
       "      <td>4</td>\n",
       "      <td>-24262</td>\n",
       "    </tr>\n",
       "    <tr>\n",
       "      <th>2</th>\n",
       "      <td>1684250027199590569</td>\n",
       "      <td>prbt_joint_3</td>\n",
       "      <td>5</td>\n",
       "      <td>62460</td>\n",
       "    </tr>\n",
       "    <tr>\n",
       "      <th>3</th>\n",
       "      <td>1684250027199644856</td>\n",
       "      <td>prbt_joint_4</td>\n",
       "      <td>6</td>\n",
       "      <td>1977</td>\n",
       "    </tr>\n",
       "    <tr>\n",
       "      <th>4</th>\n",
       "      <td>1684250027199698643</td>\n",
       "      <td>prbt_joint_5</td>\n",
       "      <td>7</td>\n",
       "      <td>97601</td>\n",
       "    </tr>\n",
       "    <tr>\n",
       "      <th>...</th>\n",
       "      <td>...</td>\n",
       "      <td>...</td>\n",
       "      <td>...</td>\n",
       "      <td>...</td>\n",
       "    </tr>\n",
       "    <tr>\n",
       "      <th>36403</th>\n",
       "      <td>1684250081802963255</td>\n",
       "      <td>prbt_joint_2</td>\n",
       "      <td>4</td>\n",
       "      <td>-9075</td>\n",
       "    </tr>\n",
       "    <tr>\n",
       "      <th>36404</th>\n",
       "      <td>1684250081803027142</td>\n",
       "      <td>prbt_joint_3</td>\n",
       "      <td>5</td>\n",
       "      <td>86179</td>\n",
       "    </tr>\n",
       "    <tr>\n",
       "      <th>36405</th>\n",
       "      <td>1684250081803092348</td>\n",
       "      <td>prbt_joint_4</td>\n",
       "      <td>6</td>\n",
       "      <td>2031</td>\n",
       "    </tr>\n",
       "    <tr>\n",
       "      <th>36406</th>\n",
       "      <td>1684250081803154365</td>\n",
       "      <td>prbt_joint_5</td>\n",
       "      <td>7</td>\n",
       "      <td>89041</td>\n",
       "    </tr>\n",
       "    <tr>\n",
       "      <th>36407</th>\n",
       "      <td>1684250081803215751</td>\n",
       "      <td>prbt_joint_6</td>\n",
       "      <td>8</td>\n",
       "      <td>4379</td>\n",
       "    </tr>\n",
       "  </tbody>\n",
       "</table>\n",
       "<p>36408 rows × 4 columns</p>\n",
       "</div>"
      ],
      "text/plain": [
       "                 timestamp          name  node_id   data\n",
       "0      1684250027199471535  prbt_joint_1        3  89137\n",
       "1      1684250027199534909  prbt_joint_2        4 -24262\n",
       "2      1684250027199590569  prbt_joint_3        5  62460\n",
       "3      1684250027199644856  prbt_joint_4        6   1977\n",
       "4      1684250027199698643  prbt_joint_5        7  97601\n",
       "...                    ...           ...      ...    ...\n",
       "36403  1684250081802963255  prbt_joint_2        4  -9075\n",
       "36404  1684250081803027142  prbt_joint_3        5  86179\n",
       "36405  1684250081803092348  prbt_joint_4        6   2031\n",
       "36406  1684250081803154365  prbt_joint_5        7  89041\n",
       "36407  1684250081803215751  prbt_joint_6        8   4379\n",
       "\n",
       "[36408 rows x 4 columns]"
      ]
     },
     "execution_count": 6,
     "metadata": {},
     "output_type": "execute_result"
    }
   ],
   "source": [
    "tpdo_data"
   ]
  },
  {
   "cell_type": "code",
   "execution_count": 7,
   "metadata": {},
   "outputs": [],
   "source": [
    "tpdo_data = tpdo_data.drop('node_id', axis=1)\n",
    "tpdo_data['timestamp'] = pd.to_datetime(tpdo_data['timestamp'], unit='ns')\n",
    "tpdo_data['time_increment'] = (tpdo_data['timestamp'] - tpdo_data['timestamp'].iloc[0]).dt.total_seconds()"
   ]
  },
  {
   "cell_type": "code",
   "execution_count": 8,
   "metadata": {},
   "outputs": [],
   "source": [
    "divide_by_constant = lambda x: x/((180/np.pi)*1000)\n",
    "tpdo_data['data'] = tpdo_data['data'].apply(divide_by_constant)"
   ]
  },
  {
   "cell_type": "code",
   "execution_count": 9,
   "metadata": {},
   "outputs": [],
   "source": [
    "tpdo_prbt_joint_1 = tpdo_data.loc[tpdo_data['name'].str.contains('prbt_joint_1')]\n",
    "tpdo_prbt_joint_2 = tpdo_data.loc[tpdo_data['name'].str.contains('prbt_joint_2')]\n",
    "tpdo_prbt_joint_3 = tpdo_data.loc[tpdo_data['name'].str.contains('prbt_joint_3')]\n",
    "tpdo_prbt_joint_4 = tpdo_data.loc[tpdo_data['name'].str.contains('prbt_joint_4')]\n",
    "tpdo_prbt_joint_5 = tpdo_data.loc[tpdo_data['name'].str.contains('prbt_joint_5')]\n",
    "tpdo_prbt_joint_6 = tpdo_data.loc[tpdo_data['name'].str.contains('prbt_joint_6')]"
   ]
  },
  {
   "cell_type": "code",
   "execution_count": 10,
   "metadata": {},
   "outputs": [
    {
     "data": {
      "text/html": [
       "<div>\n",
       "<style scoped>\n",
       "    .dataframe tbody tr th:only-of-type {\n",
       "        vertical-align: middle;\n",
       "    }\n",
       "\n",
       "    .dataframe tbody tr th {\n",
       "        vertical-align: top;\n",
       "    }\n",
       "\n",
       "    .dataframe thead th {\n",
       "        text-align: right;\n",
       "    }\n",
       "</style>\n",
       "<table border=\"1\" class=\"dataframe\">\n",
       "  <thead>\n",
       "    <tr style=\"text-align: right;\">\n",
       "      <th></th>\n",
       "      <th>timestamp</th>\n",
       "      <th>name</th>\n",
       "      <th>data</th>\n",
       "      <th>time_increment</th>\n",
       "    </tr>\n",
       "  </thead>\n",
       "  <tbody>\n",
       "    <tr>\n",
       "      <th>1</th>\n",
       "      <td>2023-05-16 15:13:47.199534909</td>\n",
       "      <td>prbt_joint_2</td>\n",
       "      <td>-0.423452</td>\n",
       "      <td>0.000063</td>\n",
       "    </tr>\n",
       "    <tr>\n",
       "      <th>7</th>\n",
       "      <td>2023-05-16 15:13:47.209498821</td>\n",
       "      <td>prbt_joint_2</td>\n",
       "      <td>-0.423434</td>\n",
       "      <td>0.010027</td>\n",
       "    </tr>\n",
       "    <tr>\n",
       "      <th>13</th>\n",
       "      <td>2023-05-16 15:13:47.217607159</td>\n",
       "      <td>prbt_joint_2</td>\n",
       "      <td>-0.423434</td>\n",
       "      <td>0.018136</td>\n",
       "    </tr>\n",
       "    <tr>\n",
       "      <th>19</th>\n",
       "      <td>2023-05-16 15:13:47.226600737</td>\n",
       "      <td>prbt_joint_2</td>\n",
       "      <td>-0.423417</td>\n",
       "      <td>0.027129</td>\n",
       "    </tr>\n",
       "    <tr>\n",
       "      <th>25</th>\n",
       "      <td>2023-05-16 15:13:47.235557986</td>\n",
       "      <td>prbt_joint_2</td>\n",
       "      <td>-0.423417</td>\n",
       "      <td>0.036086</td>\n",
       "    </tr>\n",
       "    <tr>\n",
       "      <th>...</th>\n",
       "      <td>...</td>\n",
       "      <td>...</td>\n",
       "      <td>...</td>\n",
       "      <td>...</td>\n",
       "    </tr>\n",
       "    <tr>\n",
       "      <th>36379</th>\n",
       "      <td>2023-05-16 15:14:41.767061946</td>\n",
       "      <td>prbt_joint_2</td>\n",
       "      <td>-0.158389</td>\n",
       "      <td>54.567590</td>\n",
       "    </tr>\n",
       "    <tr>\n",
       "      <th>36385</th>\n",
       "      <td>2023-05-16 15:14:41.775661861</td>\n",
       "      <td>prbt_joint_2</td>\n",
       "      <td>-0.158389</td>\n",
       "      <td>54.576190</td>\n",
       "    </tr>\n",
       "    <tr>\n",
       "      <th>36391</th>\n",
       "      <td>2023-05-16 15:14:41.784849219</td>\n",
       "      <td>prbt_joint_2</td>\n",
       "      <td>-0.158389</td>\n",
       "      <td>54.585378</td>\n",
       "    </tr>\n",
       "    <tr>\n",
       "      <th>36397</th>\n",
       "      <td>2023-05-16 15:14:41.793832319</td>\n",
       "      <td>prbt_joint_2</td>\n",
       "      <td>-0.158389</td>\n",
       "      <td>54.594361</td>\n",
       "    </tr>\n",
       "    <tr>\n",
       "      <th>36403</th>\n",
       "      <td>2023-05-16 15:14:41.802963255</td>\n",
       "      <td>prbt_joint_2</td>\n",
       "      <td>-0.158389</td>\n",
       "      <td>54.603492</td>\n",
       "    </tr>\n",
       "  </tbody>\n",
       "</table>\n",
       "<p>6068 rows × 4 columns</p>\n",
       "</div>"
      ],
      "text/plain": [
       "                          timestamp          name      data  time_increment\n",
       "1     2023-05-16 15:13:47.199534909  prbt_joint_2 -0.423452        0.000063\n",
       "7     2023-05-16 15:13:47.209498821  prbt_joint_2 -0.423434        0.010027\n",
       "13    2023-05-16 15:13:47.217607159  prbt_joint_2 -0.423434        0.018136\n",
       "19    2023-05-16 15:13:47.226600737  prbt_joint_2 -0.423417        0.027129\n",
       "25    2023-05-16 15:13:47.235557986  prbt_joint_2 -0.423417        0.036086\n",
       "...                             ...           ...       ...             ...\n",
       "36379 2023-05-16 15:14:41.767061946  prbt_joint_2 -0.158389       54.567590\n",
       "36385 2023-05-16 15:14:41.775661861  prbt_joint_2 -0.158389       54.576190\n",
       "36391 2023-05-16 15:14:41.784849219  prbt_joint_2 -0.158389       54.585378\n",
       "36397 2023-05-16 15:14:41.793832319  prbt_joint_2 -0.158389       54.594361\n",
       "36403 2023-05-16 15:14:41.802963255  prbt_joint_2 -0.158389       54.603492\n",
       "\n",
       "[6068 rows x 4 columns]"
      ]
     },
     "execution_count": 10,
     "metadata": {},
     "output_type": "execute_result"
    }
   ],
   "source": [
    "tpdo_prbt_joint_2"
   ]
  },
  {
   "cell_type": "code",
   "execution_count": 11,
   "metadata": {},
   "outputs": [
    {
     "name": "stdout",
     "output_type": "stream",
     "text": [
      "mean time difference: 0.008999911710187932\n",
      "No data skip detected.\n",
      "Total number of time skips for more the 15ms: 0\n",
      "Max time difference: 0.010396183000001002\n",
      "Min time difference: 0.007443650999999107\n"
     ]
    }
   ],
   "source": [
    "time_increments = np.array(tpdo_prbt_joint_2['time_increment']).astype(np.float64)\n",
    "time_diff = np.diff(time_increments[1:])\n",
    "\n",
    "# calculate the expected time increment\n",
    "mean_time_diff = np.mean(time_diff)\n",
    "\n",
    "print(f'mean time difference: {mean_time_diff}')\n",
    "\n",
    "# check if any time differences are greater than the expected time increment\n",
    "if any(time_diff > 14):\n",
    "    print('Data skip detected!')\n",
    "else:\n",
    "    print('No data skip detected.')\n",
    "\n",
    "num_skips = np.sum(time_diff > 15)\n",
    "\n",
    "print(f'Total number of time skips for more the 15ms: {num_skips}')\n",
    "print(f'Max time difference: {np.max(time_diff)}')\n",
    "print(f'Min time difference: {np.min(time_diff)}')"
   ]
  },
  {
   "cell_type": "code",
   "execution_count": 12,
   "metadata": {},
   "outputs": [
    {
     "data": {
      "image/png": "[encoded data removed]",
      "text/plain": [
       "<Figure size 640x480 with 1 Axes>"
      ]
     },
     "metadata": {},
     "output_type": "display_data"
    }
   ],
   "source": [
    "import matplotlib.pyplot as plt\n",
    "\n",
    "# Assuming time_increments contains the time increments and mean_time_increment contains the mean value\n",
    "\n",
    "deviations = time_diff - mean_time_diff\n",
    "mean_deviation = np.mean(deviations)\n",
    "\n",
    "plt.plot(deviations)\n",
    "plt.axhline(mean_deviation, color='r', linestyle='--', label='Mean Deviation')\n",
    "plt.xlabel('Index')\n",
    "plt.ylabel('Deviation')\n",
    "plt.title('Mean Deviation of Time Increments')\n",
    "plt.legend()\n",
    "plt.show()"
   ]
  },
  {
   "attachments": {},
   "cell_type": "markdown",
   "metadata": {},
   "source": [
    "# First test\n",
    "- Controller update: 50 Hz\n",
    "- Sync: 10ms\n",
    "- Intepolationed time period: 15ms\n",
    "---\n",
    "- mean time difference: 0.010000101833557304\n",
    "- No data skip detected.\n",
    "- Total number of time skips for more the 15ms: 0\n",
    "- Max time difference: 0.011175573999999244\n",
    "- Min time difference: 0.008674769000002414\n",
    "\n",
    "# Second test\n",
    "- Controller update: 100 Hz\n",
    "- Sync: 10ms\n",
    "- Intepolationed time period: 15ms\n",
    "---\n",
    "- mean time difference: 0.010000072147980502\n",
    "- No data skip detected.\n",
    "- Total number of time skips for more the 15ms: 0\n",
    "- Max time difference: 0.011042023999998207\n",
    "- Min time difference: 0.009007880000005741\n",
    "\n",
    "# Third test\n",
    "- Controller update: 100 Hz\n",
    "- Sync: 9ms\n",
    "- Intepolationed time period: 15ms\n",
    "---\n",
    "- mean time difference: 0.008999911710187932\n",
    "- No data skip detected.\n",
    "- Total number of time skips for more the 15ms: 0\n",
    "- Max time difference: 0.010396183000001002\n",
    "- Min time difference: 0.007443650999999107"
   ]
  },
  {
   "attachments": {},
   "cell_type": "markdown",
   "metadata": {},
   "source": []
  }
 ],
 "metadata": {
  "kernelspec": {
   "display_name": "Python 3",
   "language": "python",
   "name": "python3"
  },
  "language_info": {
   "codemirror_mode": {
    "name": "ipython",
    "version": 3
   },
   "file_extension": ".py",
   "mimetype": "text/x-python",
   "name": "python",
   "nbconvert_exporter": "python",
   "pygments_lexer": "ipython3",
   "version": "3.10.6"
  },
  "orig_nbformat": 4
 },
 "nbformat": 4,
 "nbformat_minor": 2
}
